{
 "cells": [
  {
   "cell_type": "code",
   "execution_count": 118,
   "id": "2027c5d7",
   "metadata": {},
   "outputs": [],
   "source": [
    "import numpy as np\n",
    "import os\n",
    "import pandas as pd\n",
    "from PIL import Image\n",
    "from tensorflow.keras.utils import to_categorical\n",
    "from sklearn.preprocessing import StandardScaler\n",
    "import matplotlib.pyplot as plt\n",
    "from sklearn.model_selection import train_test_split"
   ]
  },
  {
   "cell_type": "code",
   "execution_count": 126,
   "id": "c4cd4722",
   "metadata": {},
   "outputs": [],
   "source": [
    "import keras\n",
    "from keras.models import Sequential,Input,Model\n",
    "from keras.layers import Dense, Dropout, Flatten\n",
    "from keras.layers import Conv2D, MaxPooling2D\n",
    "from keras.losses import MeanSquaredError\n",
    "from tensorflow.keras.optimizers import Adam\n",
    "from tensorflow.keras.layers import BatchNormalization\n",
    "from keras.layers.advanced_activations import LeakyReLU"
   ]
  },
  {
   "cell_type": "code",
   "execution_count": 109,
   "id": "4b107687",
   "metadata": {},
   "outputs": [],
   "source": [
    "class ImagePreprocessingPipeline(object):\n",
    "    def __init__(self,directory):\n",
    "        self.directory = directory\n",
    "        self.image_array = None\n",
    "        self.scaler = StandardScaler()\n",
    "        for filename in os.listdir(directory):\n",
    "            f = os.path.join(directory, filename)\n",
    "            # checking if it is a file\n",
    "            if os.path.isfile(f):\n",
    "                img = Image.open(f)\n",
    "                #(n,h,w,1) is the preferred array shape for using a Keras CNN, where...\n",
    "                # n = number of observations\n",
    "                # h = image height\n",
    "                # w = image width\n",
    "                img_array = np.asarray(img).reshape(1,-1)\n",
    "                if type(self.image_array) == type(img_array) and self.image_array.shape[1]==img_array.shape[1]:\n",
    "                    self.image_array = np.concatenate((self.image_array,img_array))\n",
    "                    if self.image_array.shape[0]%5000==0:\n",
    "                        print(\"Progress!\", self.image_array.shape)\n",
    "                else:\n",
    "                    self.image_array = img_array\n",
    "                    print('First image converted to numpy array. This message should only occur once')\n",
    "        self.image_array = self.scaler.fit_transform(self.image_array).reshape((self.image_array.shape[0],48,48,1))\n",
    "        "
   ]
  },
  {
   "cell_type": "code",
   "execution_count": 110,
   "id": "a3e4332f",
   "metadata": {},
   "outputs": [
    {
     "name": "stdout",
     "output_type": "stream",
     "text": [
      "First image converted to numpy array. This message should only occur once\n",
      "Progress! (5000, 2304)\n",
      "Progress! (10000, 2304)\n",
      "Progress! (15000, 2304)\n",
      "Progress! (20000, 2304)\n",
      "Progress! (25000, 2304)\n",
      "Progress! (30000, 2304)\n",
      "Progress! (35000, 2304)\n",
      "Progress! (40000, 2304)\n"
     ]
    }
   ],
   "source": [
    "training_images = ImagePreprocessingPipeline(directory=\"C:/Users/Owner/Documents/GradSchool/Current/MachineLearning/Projects/mdm/mdm_images/galaxy_postage/training\")"
   ]
  },
  {
   "cell_type": "code",
   "execution_count": 111,
   "id": "237ae68f",
   "metadata": {},
   "outputs": [
    {
     "name": "stdout",
     "output_type": "stream",
     "text": [
      "(40000, 48, 48, 1)\n"
     ]
    }
   ],
   "source": [
    "print(training_images.image_array.shape)"
   ]
  },
  {
   "cell_type": "code",
   "execution_count": 116,
   "id": "e1243341",
   "metadata": {},
   "outputs": [
    {
     "name": "stdout",
     "output_type": "stream",
     "text": [
      "First image converted to numpy array. This message should only occur once\n",
      "Progress! (5000, 2304)\n",
      "Progress! (10000, 2304)\n",
      "Progress! (15000, 2304)\n",
      "Progress! (20000, 2304)\n",
      "Progress! (25000, 2304)\n",
      "Progress! (30000, 2304)\n",
      "Progress! (35000, 2304)\n",
      "Progress! (40000, 2304)\n"
     ]
    }
   ],
   "source": [
    "training_star_images = ImagePreprocessingPipeline(directory=\"C:/Users/Owner/Documents/GradSchool/Current/MachineLearning/Projects/mdm/mdm_images/star_postage/training\")"
   ]
  },
  {
   "cell_type": "code",
   "execution_count": 143,
   "id": "85b75a98",
   "metadata": {},
   "outputs": [
    {
     "name": "stdout",
     "output_type": "stream",
     "text": [
      "(40000, 2)\n",
      "<class 'numpy.ndarray'>\n",
      "(40000, 48, 48, 1)\n",
      "<class 'numpy.ndarray'>\n"
     ]
    }
   ],
   "source": [
    "training_y = np.asarray(pd.read_csv(\"C:/Users/Owner/Documents/GradSchool/Current/MachineLearning/Projects/mdm/mdm_training_solution_sorted.csv\")).astype('float32')[:,1:]\n",
    "print(training_y.shape)\n",
    "print(type(training_y))\n",
    "print(training_images.image_array.shape)\n",
    "print(type(training_images.image_array))\n"
   ]
  },
  {
   "cell_type": "code",
   "execution_count": 152,
   "id": "93eed864",
   "metadata": {},
   "outputs": [
    {
     "name": "stdout",
     "output_type": "stream",
     "text": [
      "Model: \"sequential_9\"\n",
      "_________________________________________________________________\n",
      "Layer (type)                 Output Shape              Param #   \n",
      "=================================================================\n",
      "conv2d_27 (Conv2D)           (None, 46, 46, 32)        320       \n",
      "_________________________________________________________________\n",
      "leaky_re_lu_36 (LeakyReLU)   (None, 46, 46, 32)        0         \n",
      "_________________________________________________________________\n",
      "max_pooling2d_27 (MaxPooling (None, 23, 23, 32)        0         \n",
      "_________________________________________________________________\n",
      "conv2d_28 (Conv2D)           (None, 21, 21, 64)        18496     \n",
      "_________________________________________________________________\n",
      "leaky_re_lu_37 (LeakyReLU)   (None, 21, 21, 64)        0         \n",
      "_________________________________________________________________\n",
      "max_pooling2d_28 (MaxPooling (None, 10, 10, 64)        0         \n",
      "_________________________________________________________________\n",
      "conv2d_29 (Conv2D)           (None, 8, 8, 128)         73856     \n",
      "_________________________________________________________________\n",
      "leaky_re_lu_38 (LeakyReLU)   (None, 8, 8, 128)         0         \n",
      "_________________________________________________________________\n",
      "max_pooling2d_29 (MaxPooling (None, 4, 4, 128)         0         \n",
      "_________________________________________________________________\n",
      "flatten_9 (Flatten)          (None, 2048)              0         \n",
      "_________________________________________________________________\n",
      "dense_18 (Dense)             (None, 128)               262272    \n",
      "_________________________________________________________________\n",
      "leaky_re_lu_39 (LeakyReLU)   (None, 128)               0         \n",
      "_________________________________________________________________\n",
      "dense_19 (Dense)             (None, 2)                 258       \n",
      "=================================================================\n",
      "Total params: 355,202\n",
      "Trainable params: 355,202\n",
      "Non-trainable params: 0\n",
      "_________________________________________________________________\n"
     ]
    }
   ],
   "source": [
    "model = Sequential()\n",
    "model.add(Conv2D(32, kernel_size=(3, 3),activation='relu',input_shape=(48,48,1)))\n",
    "model.add(LeakyReLU(alpha=0.1))\n",
    "model.add(MaxPooling2D((2, 2)))\n",
    "model.add(Conv2D(64, (3, 3), activation='relu'))\n",
    "model.add(LeakyReLU(alpha=0.1))\n",
    "model.add(MaxPooling2D(pool_size=(2, 2)))\n",
    "model.add(Conv2D(128, (3, 3), activation='relu'))\n",
    "model.add(LeakyReLU(alpha=0.1))                  \n",
    "model.add(MaxPooling2D(pool_size=(2, 2)))\n",
    "model.add(Flatten())\n",
    "model.add(Dense(128, activation='relu'))\n",
    "model.add(LeakyReLU(alpha=0.1))                  \n",
    "model.add(Dense(2, activation='softmax'))\n",
    "\n",
    "model.compile(\n",
    "    loss=MeanSquaredError(),\n",
    "    optimizer=Adam(),\n",
    "    metrics=['accuracy'])\n",
    "\n",
    "model.summary()"
   ]
  },
  {
   "cell_type": "code",
   "execution_count": 153,
   "id": "2001d25b",
   "metadata": {},
   "outputs": [
    {
     "name": "stdout",
     "output_type": "stream",
     "text": [
      "Epoch 1/10\n",
      "1250/1250 [==============================] - 13s 5ms/step - loss: 0.2727 - accuracy: 0.4977\n",
      "Epoch 2/10\n",
      "1250/1250 [==============================] - 6s 5ms/step - loss: 0.2726 - accuracy: 0.4988\n",
      "Epoch 3/10\n",
      "1250/1250 [==============================] - 6s 5ms/step - loss: 0.2726 - accuracy: 0.4989\n",
      "Epoch 4/10\n",
      "1250/1250 [==============================] - 6s 5ms/step - loss: 0.2726 - accuracy: 0.4999\n",
      "Epoch 5/10\n",
      "1250/1250 [==============================] - 6s 5ms/step - loss: 0.2726 - accuracy: 0.5028\n",
      "Epoch 6/10\n",
      "1250/1250 [==============================] - 6s 5ms/step - loss: 0.2726 - accuracy: 0.5034\n",
      "Epoch 7/10\n",
      "1250/1250 [==============================] - 6s 5ms/step - loss: 0.2726 - accuracy: 0.4994\n",
      "Epoch 8/10\n",
      "1250/1250 [==============================] - 6s 5ms/step - loss: 0.2726 - accuracy: 0.5009\n",
      "Epoch 9/10\n",
      "1250/1250 [==============================] - 6s 5ms/step - loss: 0.2726 - accuracy: 0.4987\n",
      "Epoch 10/10\n",
      "1250/1250 [==============================] - 6s 5ms/step - loss: 0.2726 - accuracy: 0.4986\n"
     ]
    }
   ],
   "source": [
    "model_trained = model.fit(\n",
    "    training_images.image_array,\n",
    "    training_y,\n",
    "    epochs=10)"
   ]
  }
 ],
 "metadata": {
  "kernelspec": {
   "display_name": "Python 3 (ipykernel)",
   "language": "python",
   "name": "python3"
  },
  "language_info": {
   "codemirror_mode": {
    "name": "ipython",
    "version": 3
   },
   "file_extension": ".py",
   "mimetype": "text/x-python",
   "name": "python",
   "nbconvert_exporter": "python",
   "pygments_lexer": "ipython3",
   "version": "3.9.16"
  }
 },
 "nbformat": 4,
 "nbformat_minor": 5
}
