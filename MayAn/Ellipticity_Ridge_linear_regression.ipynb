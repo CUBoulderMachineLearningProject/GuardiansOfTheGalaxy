{
 "cells": [
  {
   "cell_type": "code",
   "execution_count": 9,
   "id": "d6a93e55",
   "metadata": {},
   "outputs": [],
   "source": [
    "import numpy as np\n",
    "import cv2\n",
    "import os\n",
    "import matplotlib.pyplot as plt\n",
    "%matplotlib inline\n",
    "import pandas as pd\n",
    "from sklearn.linear_model import Ridge\n",
    "from sklearn.metrics import mean_squared_error\n",
    "galaxy_train_path = \"C:/Users/Poll/Documents/ML project/Data/mdm/mdm_images/galaxy_postage/training\"\n",
    "galaxy_test_path = \"C:/Users/Poll/Documents/ML project/Data/mdm/mdm_images/galaxy_postage/test\"\n",
    "star_train_path = \"C:/Users/Poll/Documents/ML project/Data/mdm/mdm_images/star_postage/training\"\n",
    "star_test_path = \"C:/Users/Poll/Documents/ML project/Data/mdm/mdm_images/star_postage/test\"\n",
    "\"Adding features blurring, pixelation and noise\"\n",
    "\n",
    "def load_data(data_path):\n",
    "    data = []\n",
    "    for filename in os.listdir(data_path):\n",
    "        if filename.endswith(\".png\"):\n",
    "            img = cv2.imread(os.path.join(data_path, filename), cv2.IMREAD_GRAYSCALE)\n",
    "            data.append(img.flatten()) # flatten 2D matrix into 1D array\n",
    "    return np.array(data)\n",
    "# load data\n",
    "galaxy_train_data = load_data(galaxy_train_path)\n",
    "galaxy_test_data = load_data(galaxy_test_path)\n",
    "star_train_data = load_data(star_train_path)\n",
    "star_test_data = load_data(star_test_path)\n",
    "#galaxy_train_data = add_features(galaxy_train_data)\n",
    "#galaxy_test_data = add_features(galaxy_test_data)\n",
    "#star_train_data = add_features(star_train_data)\n",
    "#star_test_data = add_features(star_test_data)\n",
    "\n",
    "X_train = np.column_stack([galaxy_train_data, star_train_data])\n",
    "y1_train = np.asarray(pd.read_csv(\"C:/Users/Poll/Documents/ML project/Data/mdm/mdm_training_solution_sorted.csv\")[\"e1\"]).astype('float32')\n",
    "y2_train = np.asarray(pd.read_csv(\"C:/Users/Poll/Documents/ML project/Data/mdm/mdm_training_solution_sorted.csv\")[\"e2\"]).astype('float32')\n",
    "X_test = np.column_stack([galaxy_test_data, star_test_data])\n",
    "y1_test=np.asarray(pd.read_csv(\"C:/Users/Poll/Documents/ML project/Data/mdm/mdm_training_solution.csv\")[\"e1\"]).astype('float32')\n",
    "y2_test=np.asarray(pd.read_csv(\"C:/Users/Poll/Documents/ML project/Data/mdm/mdm_training_solution.csv\")[\"e2\"]).astype('float32')"
   ]
  },
  {
   "cell_type": "code",
   "execution_count": null,
   "id": "54bada07",
   "metadata": {},
   "outputs": [],
   "source": [
    "alphas = [0.01, 0.05, 0.1, 0.2, 0.3, 1.0, 10.0, 100.0, 300.0, 500.0, 1e3, 1.5e3, 2e3, 5e3, 1e4]\n",
    "coef_norm_stored_1 = []\n",
    "num_nonzero_coefs_stored_1 = []\n",
    "rmse_stored_1 = []\n",
    "for alpha in alphas:\n",
    "    ridge = Ridge(alpha=alpha, normalize=False)\n",
    "    ridge.fit(X_train, y1_train)\n",
    "    coef_norm_stored_1.append(np.linalg.norm(ridge.coef_))\n",
    "    num_nonzero_coefs_stored_1.append(np.count_nonzero(ridge.coef_))\n",
    "    y1_pred = ridge.predict(X_test)\n",
    "    rmse_stored_1.append(mean_squared_error(y1_test, y1_pred[0:40000], squared=False))"
   ]
  },
  {
   "cell_type": "code",
   "execution_count": 74,
   "id": "971ef0f2",
   "metadata": {},
   "outputs": [
    {
     "data": {
      "text/plain": [
       "[0.16853876697128045,\n",
       " 0.16853876632160086,\n",
       " 0.16853876550950156,\n",
       " 0.16853876388530323,\n",
       " 0.16853876226110548,\n",
       " 0.1685387508917363,\n",
       " 0.16853860471649995,\n",
       " 0.16853714320562527,\n",
       " 0.16853389697484758,\n",
       " 0.1685306529093444,\n",
       " 0.16852255220381435,\n",
       " 0.1685144649818259,\n",
       " 0.16850639120821956,\n",
       " 0.16845822902925395,\n",
       " 0.16837901159540242]"
      ]
     },
     "execution_count": 74,
     "metadata": {},
     "output_type": "execute_result"
    }
   ],
   "source": [
    "rmse_stored_1"
   ]
  },
  {
   "cell_type": "code",
   "execution_count": 73,
   "id": "8fcefd23",
   "metadata": {},
   "outputs": [
    {
     "data": {
      "text/plain": [
       "[0.16853876697128045,\n",
       " 0.16853876632160086,\n",
       " 0.16853876550950156,\n",
       " 0.16853876388530323,\n",
       " 0.16853876226110548,\n",
       " 0.1685387508917363,\n",
       " 0.16853860471649995,\n",
       " 0.16853714320562527,\n",
       " 0.16853389697484758,\n",
       " 0.1685306529093444,\n",
       " 0.16852255220381435,\n",
       " 0.1685144649818259,\n",
       " 0.16850639120821956,\n",
       " 0.16845822902925395,\n",
       " 0.16837901159540242]"
      ]
     },
     "execution_count": 73,
     "metadata": {},
     "output_type": "execute_result"
    }
   ],
   "source": [
    "# Add blurring, pixelation, and noise features\n",
    "#def add_features(data):\n",
    "#    features = []\n",
    "#    for i in range(len(data)):\n",
    "#        # reshape to 36x64\n",
    "#        b = data.reshape(9600, 9600)\n",
    "#        img=b\n",
    "#        # crop center part to get 32x32\n",
    "#        #c = b[2:34, 16:48]\n",
    "#        #img = c[i].reshape(16, 16) # resize to a smaller image to prevent overfitting (original is 48x48 pixels)\n",
    "#        # Add blurring feature\n",
    "#        blur = cv2.GaussianBlur(img, (5, 5), 0) # chosen kernel size 5x5 pixels\n",
    "#        blur_feature = blur.flatten()\n",
    "#        # Add pixelation feature\n",
    "#        resized = cv2.resize(img, (10, 10), interpolation=cv2.INTER_NEAREST) # chosen kernel size 10x10 pixels\n",
    "#        pixel_feature = resized.flatten()\n",
    "#        # Add noise feature\n",
    "#        noise = np.random.normal(0, 1, img.shape)\n",
    "#        noisy_img = img + noise\n",
    "#        noisy_img[noisy_img < 0] = 0 # min\n",
    "#        noisy_img[noisy_img > 255] = 255 # max\n",
    "#        noise_feature = noisy_img.flatten()\n",
    "#        # Combine all features\n",
    "#        features.append(np.concatenate([data[i], blur_feature, pixel_feature, noise_feature]))\n",
    "#    return np.array(features)"
   ]
  }
 ],
 "metadata": {
  "kernelspec": {
   "display_name": "Python 3 (ipykernel)",
   "language": "python",
   "name": "python3"
  },
  "language_info": {
   "codemirror_mode": {
    "name": "ipython",
    "version": 3
   },
   "file_extension": ".py",
   "mimetype": "text/x-python",
   "name": "python",
   "nbconvert_exporter": "python",
   "pygments_lexer": "ipython3",
   "version": "3.9.13"
  }
 },
 "nbformat": 4,
 "nbformat_minor": 5
}
