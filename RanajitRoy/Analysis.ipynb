{
 "cells": [
  {
   "cell_type": "code",
   "execution_count": 1,
   "id": "8879dc76-ee54-4d72-bd2d-cebbdcf96e65",
   "metadata": {
    "tags": []
   },
   "outputs": [],
   "source": [
    "import numpy as np\n",
    "from scipy import ndimage as ndi\n",
    "import matplotlib.pyplot as plt\n",
    "import cv2"
   ]
  },
  {
   "cell_type": "code",
   "execution_count": 2,
   "id": "265e3316-f342-4526-83a2-aca6787bf747",
   "metadata": {
    "tags": []
   },
   "outputs": [
    {
     "name": "stderr",
     "output_type": "stream",
     "text": [
      "2023-04-03 15:37:55.001258: I tensorflow/core/util/port.cc:110] oneDNN custom operations are on. You may see slightly different numerical results due to floating-point round-off errors from different computation orders. To turn them off, set the environment variable `TF_ENABLE_ONEDNN_OPTS=0`.\n",
      "2023-04-03 15:37:55.031707: I tensorflow/core/platform/cpu_feature_guard.cc:182] This TensorFlow binary is optimized to use available CPU instructions in performance-critical operations.\n",
      "To enable the following instructions: AVX2 AVX_VNNI FMA, in other operations, rebuild TensorFlow with the appropriate compiler flags.\n",
      "2023-04-03 15:37:55.425182: W tensorflow/compiler/tf2tensorrt/utils/py_utils.cc:38] TF-TRT Warning: Could not find TensorRT\n"
     ]
    }
   ],
   "source": [
    "import os\n",
    "os.environ[\"CUDA_VISIBLE_DEVICES\"]=\"-1\"\n",
    "import tensorflow as tf\n",
    "from tensorflow import keras\n",
    "from tensorflow.keras import layers"
   ]
  },
  {
   "cell_type": "code",
   "execution_count": 3,
   "id": "9ecd78ab-ffb8-4deb-8864-65e9a6253747",
   "metadata": {
    "tags": []
   },
   "outputs": [
    {
     "name": "stdout",
     "output_type": "stream",
     "text": [
      "Num GPUs Available:  0\n"
     ]
    },
    {
     "name": "stderr",
     "output_type": "stream",
     "text": [
      "2023-04-03 15:37:56.101202: E tensorflow/compiler/xla/stream_executor/cuda/cuda_driver.cc:266] failed call to cuInit: CUDA_ERROR_NO_DEVICE: no CUDA-capable device is detected\n"
     ]
    }
   ],
   "source": [
    "print(\"Num GPUs Available: \", len(tf.config.list_physical_devices('GPU')))"
   ]
  },
  {
   "cell_type": "code",
   "execution_count": 4,
   "id": "36f934d5-c248-4d84-9bb7-6ac87d20cb40",
   "metadata": {
    "tags": []
   },
   "outputs": [
    {
     "data": {
      "text/plain": [
       "<matplotlib.image.AxesImage at 0x7efc47830d60>"
      ]
     },
     "execution_count": 4,
     "metadata": {},
     "output_type": "execute_result"
    },
    {
     "data": {
      "image/png": "[encoded data removed]",
      "text/plain": [
       "<Figure size 640x480 with 1 Axes>"
      ]
     },
     "metadata": {},
     "output_type": "display_data"
    }
   ],
   "source": [
    "im = cv2.imread(\"galaxy_postage/training/mdm_galaxy_training_1.png\", cv2.IMREAD_GRAYSCALE)\n",
    "plt.imshow(im)"
   ]
  },
  {
   "cell_type": "code",
   "execution_count": 5,
   "id": "2e0837d7-ea66-474a-b901-5b47fd2a4284",
   "metadata": {
    "tags": []
   },
   "outputs": [],
   "source": [
    "import pandas as pd\n",
    "sol = pd.read_csv(\"mdm_training_solution_sorted.csv\")\n",
    "e1s = sol['e1'].to_numpy()\n",
    "e2s = sol['e2'].to_numpy()"
   ]
  },
  {
   "cell_type": "code",
   "execution_count": 36,
   "id": "a62d3e14-3f45-48e6-ab90-37137bc3650f",
   "metadata": {
    "tags": []
   },
   "outputs": [
    {
     "data": {
      "text/plain": [
       "(40000, 2)"
      ]
     },
     "execution_count": 36,
     "metadata": {},
     "output_type": "execute_result"
    }
   ],
   "source": [
    "# to make it positive\n",
    "mod_e1_val = np.abs(e1s.min())\n",
    "me1s = e1s + mod_e1_val\n",
    "mod_e2_val = np.abs(e2s.min())\n",
    "me2s = e2s + mod_e2_val\n",
    "\n",
    "train_mes = np.column_stack((me1s,me2s))\n",
    "\n",
    "train_es = np.column_stack((e1s,e2s))\n",
    "\n",
    "train_es.shape"
   ]
  },
  {
   "cell_type": "code",
   "execution_count": 7,
   "id": "6e9a84b4-c9d9-401c-91be-f003d5ff5e4b",
   "metadata": {
    "tags": []
   },
   "outputs": [],
   "source": [
    "tsol = pd.read_csv(\"mdm_solution.csv\")\n",
    "te1s = tsol['e1_solution'].to_numpy()\n",
    "te2s = tsol[' e2_solution'].to_numpy()"
   ]
  },
  {
   "cell_type": "code",
   "execution_count": 37,
   "id": "fbbdd779-2d40-42bd-8b89-60b15f27b8cb",
   "metadata": {
    "tags": []
   },
   "outputs": [
    {
     "data": {
      "text/plain": [
       "(60000, 2)"
      ]
     },
     "execution_count": 37,
     "metadata": {},
     "output_type": "execute_result"
    }
   ],
   "source": [
    "mod_te1_val = np.abs(te1s.min())\n",
    "mte1s = te1s + mod_te1_val\n",
    "mod_te2_val = np.abs(te2s.min())\n",
    "mte2s = te2s + mod_te2_val\n",
    "\n",
    "test_mes = np.column_stack((mte1s,mte2s))\n",
    "\n",
    "test_es = np.column_stack((te1s,te2s))\n",
    "\n",
    "test_es.shape"
   ]
  },
  {
   "cell_type": "markdown",
   "id": "4eb24638-beb4-46da-b3e2-0933874fe56a",
   "metadata": {},
   "source": [
    "###### error type"
   ]
  },
  {
   "cell_type": "code",
   "execution_count": 18,
   "id": "89222715-9976-4dd7-abff-3cef97719edf",
   "metadata": {
    "tags": []
   },
   "outputs": [],
   "source": [
    "def abserr(value, truth):\n",
    "    return np.abs(value - truth)\n",
    "\n",
    "def sqerr(value, truth):\n",
    "    return (value - truth) * (value - truth)"
   ]
  },
  {
   "cell_type": "markdown",
   "id": "1af43d80-d63b-4457-8fbb-3fe6583b000b",
   "metadata": {},
   "source": [
    "## UWQM"
   ]
  },
  {
   "cell_type": "code",
   "execution_count": 8,
   "id": "cd468311-59ba-4077-9930-c36d117b1fe4",
   "metadata": {
    "tags": []
   },
   "outputs": [
    {
     "name": "stdout",
     "output_type": "stream",
     "text": [
      "(-0.0031841092975681746, -0.0025858177224442067)\n"
     ]
    }
   ],
   "source": [
    "def getUWQM(image):\n",
    "    pixel_len = np.linspace(1, image.shape[0], image.shape[0])\n",
    "\n",
    "    x, y = np.meshgrid(pixel_len, pixel_len)\n",
    "\n",
    "    sum_pix = np.sum(image)\n",
    "    im_meanx = np.sum(image * x) / sum_pix\n",
    "    im_meany = np.sum(image * y) / sum_pix\n",
    "\n",
    "    q11 = np.sum(image * (x - im_meanx) * (x - im_meanx)) / sum_pix\n",
    "    q12 = np.sum(image * (x - im_meanx) * (y - im_meany)) / sum_pix\n",
    "    q22 = np.sum(image * (y - im_meany) * (y - im_meany)) / sum_pix\n",
    "\n",
    "    e1 = (q11-q22)/(q11+q22)\n",
    "    e2 = 2*q12/(q11+q22)\n",
    "    return e1, e2\n",
    "\n",
    "print(getUWQM(im))"
   ]
  },
  {
   "cell_type": "code",
   "execution_count": 5,
   "id": "e65bf7e4-87c2-4077-879e-0022cf0ceec3",
   "metadata": {
    "tags": []
   },
   "outputs": [
    {
     "name": "stdout",
     "output_type": "stream",
     "text": [
      "40000 done!\n",
      "0.3536182642378644\n",
      "0.3411426191762423\n"
     ]
    }
   ],
   "source": [
    "import pandas as pd\n",
    "sol = pd.read_csv(\"mdm_training_solution_sorted.csv\")\n",
    "e1s = sol['e1'].to_numpy()\n",
    "e2s = sol['e2'].to_numpy()\n",
    "\n",
    "mse_e1 = 0\n",
    "mse_e2 = 0\n",
    "\n",
    "for i in range(1, 40001):\n",
    "    image_path = f\"galaxy_postage/training/mdm_galaxy_training_{i}.png\"\n",
    "    im = cv2.imread(image_path, cv2.IMREAD_GRAYSCALE)\n",
    "    # im = ndi.gaussian_filter(im, sigma=0.5) # denoise\n",
    "    es = getUWQM(im)\n",
    "    mse_e1 += abserr(e1s[i-1], es[0])\n",
    "    mse_e2 += abserr(e2s[i-1], es[1])\n",
    "    if i % 10 == 0:\n",
    "        print(f\"{i} done!\",end=\"\\r\")\n",
    "    \n",
    "mse_e1 /= e1s.shape[0]\n",
    "mse_e2 /= e2s.shape[0]\n",
    "\n",
    "mse_e1 = np.sqrt(mse_e1)\n",
    "mse_e2 = np.sqrt(mse_e2)\n",
    "\n",
    "print()\n",
    "print(mse_e1)\n",
    "print(mse_e2)"
   ]
  },
  {
   "cell_type": "markdown",
   "id": "9130aef6-ec40-4c5b-a6e5-b3a2442048cc",
   "metadata": {},
   "source": [
    "## Trying a new way"
   ]
  },
  {
   "cell_type": "code",
   "execution_count": 6,
   "id": "c072d623-d939-4d40-8b7f-7a323f616f00",
   "metadata": {
    "tags": []
   },
   "outputs": [
    {
     "data": {
      "text/plain": [
       "<matplotlib.image.AxesImage at 0x7faadf152290>"
      ]
     },
     "execution_count": 6,
     "metadata": {},
     "output_type": "execute_result"
    },
    {
     "data": {
      "image/png": "[encoded data removed]",
      "text/plain": [
       "<Figure size 640x480 with 1 Axes>"
      ]
     },
     "metadata": {},
     "output_type": "display_data"
    }
   ],
   "source": [
    "im = cv2.imread(\"galaxy_postage/training/mdm_galaxy_training_3.png\", cv2.IMREAD_GRAYSCALE)\n",
    "plt.imshow(im)"
   ]
  },
  {
   "cell_type": "code",
   "execution_count": 7,
   "id": "14534c27-14ce-419e-a6f8-f2f93403b452",
   "metadata": {
    "tags": []
   },
   "outputs": [
    {
     "data": {
      "text/plain": [
       "<matplotlib.image.AxesImage at 0x7faadd325fc0>"
      ]
     },
     "execution_count": 7,
     "metadata": {},
     "output_type": "execute_result"
    },
    {
     "data": {
      "image/png": "[encoded data removed]",
      "text/plain": [
       "<Figure size 640x480 with 1 Axes>"
      ]
     },
     "metadata": {},
     "output_type": "display_data"
    }
   ],
   "source": [
    "denoised_im = ndi.gaussian_filter(im, sigma=0.5)\n",
    "plt.imshow(denoised_im)"
   ]
  },
  {
   "cell_type": "code",
   "execution_count": 8,
   "id": "a2b183e4-bd6a-42da-9df1-29fad91de9d0",
   "metadata": {
    "tags": []
   },
   "outputs": [
    {
     "data": {
      "text/plain": [
       "<matplotlib.image.AxesImage at 0x7faaeb506710>"
      ]
     },
     "execution_count": 8,
     "metadata": {},
     "output_type": "execute_result"
    },
    {
     "data": {
      "image/png": "[encoded data removed]",
      "text/plain": [
       "<Figure size 640x480 with 1 Axes>"
      ]
     },
     "metadata": {},
     "output_type": "display_data"
    }
   ],
   "source": [
    "normalized_im = ((denoised_im - denoised_im.mean()) / denoised_im.std()).clip(0, 1)\n",
    "plt.imshow(normalized_im)"
   ]
  },
  {
   "cell_type": "code",
   "execution_count": 9,
   "id": "02868121-f2e4-4d41-a94c-7d90094c2374",
   "metadata": {
    "tags": []
   },
   "outputs": [
    {
     "data": {
      "text/plain": [
       "<matplotlib.image.AxesImage at 0x7faadd1f3a30>"
      ]
     },
     "execution_count": 9,
     "metadata": {},
     "output_type": "execute_result"
    },
    {
     "data": {
      "image/png": "[encoded data removed]",
      "text/plain": [
       "<Figure size 640x480 with 1 Axes>"
      ]
     },
     "metadata": {},
     "output_type": "display_data"
    }
   ],
   "source": [
    "red_bit_depth = (normalized_im * 10).astype(np.int8) / 10\n",
    "plt.imshow(red_bit_depth)"
   ]
  },
  {
   "cell_type": "code",
   "execution_count": 10,
   "id": "e5480d16-7a15-4a58-b8be-d3812c6f3b12",
   "metadata": {
    "tags": []
   },
   "outputs": [],
   "source": [
    "from bresenham import bresenham\n",
    "\n",
    "pointset_bound = np.array([\n",
    "    [0, 24], [6.431, 24], [13.856, 24], [24, 24], [24, 13.856], [24, 6.431],\n",
    "    [24, 0], [24, -6.431], [24, -13.856], [24, -24], [13.856, -24], [6.431, -24]\n",
    "])\n",
    "pointset_bound = pointset_bound.round().astype(np.int_)"
   ]
  },
  {
   "cell_type": "code",
   "execution_count": 11,
   "id": "648abade-fa51-43b0-aea2-2aa4d696975b",
   "metadata": {
    "tags": []
   },
   "outputs": [
    {
     "data": {
      "text/plain": [
       "<matplotlib.image.AxesImage at 0x7faadd07c190>"
      ]
     },
     "execution_count": 11,
     "metadata": {},
     "output_type": "execute_result"
    },
    {
     "data": {
      "image/png": "[encoded data removed]",
      "text/plain": [
       "<Figure size 640x480 with 1 Axes>"
      ]
     },
     "metadata": {},
     "output_type": "display_data"
    }
   ],
   "source": [
    "debug_color_img = np.dstack([red_bit_depth, red_bit_depth, red_bit_depth])\n",
    "\n",
    "for point in pointset_bound:\n",
    "    other_point = -point\n",
    "    mpoint = point + 23\n",
    "    other_mpoint = other_point + 23\n",
    "    point_arr = np.array(list(bresenham(mpoint[0], mpoint[1], other_mpoint[0], other_mpoint[1]))).clip(0,47)[:-1]\n",
    "    line_intensities = np.zeros(48)\n",
    "    for idx, pos in enumerate(point_arr):\n",
    "        line_intensities[idx] = red_bit_depth[pos[0]][pos[1]]\n",
    "    # print(line_intensities)\n",
    "    line_intensities = np.convolve([1, 1, 1], line_intensities, mode='same') # smoothening\n",
    "    line_intensities = line_intensities > (line_intensities.mean() + 0.7*line_intensities.std())\n",
    "    for idx, pos in enumerate(point_arr):\n",
    "        if line_intensities[idx]:\n",
    "            debug_color_img[pos[0], pos[1], :] = [1, 0, 0]\n",
    "        else:\n",
    "            debug_color_img[pos[0], pos[1], :] = [1, 1, 1]\n",
    "\n",
    "plt.imshow(debug_color_img)"
   ]
  },
  {
   "cell_type": "markdown",
   "id": "8538d48b-7e27-4060-b956-3b9da8a0d8f6",
   "metadata": {},
   "source": [
    "extracting the features"
   ]
  },
  {
   "cell_type": "code",
   "execution_count": 12,
   "id": "0f81d31a-c3b1-4a3c-9439-f870839e7d9b",
   "metadata": {},
   "outputs": [],
   "source": [
    "# feature extraction\n",
    "def getfeatures(image):\n",
    "    features = np.zeros(pointset_bound.shape[0]).astype(np.float16)\n",
    "    for fi, point in enumerate(pointset_bound):\n",
    "        other_point = -point\n",
    "        mpoint = point + 23\n",
    "        other_mpoint = other_point + 23\n",
    "        point_arr = np.array(list(bresenham(mpoint[0], mpoint[1], other_mpoint[0], other_mpoint[1]))).clip(0,47)[:-1]\n",
    "        line_intensities = np.zeros(48)\n",
    "        for idx, pos in enumerate(point_arr):\n",
    "            line_intensities[idx] = image[pos[0]][pos[1]]\n",
    "        # print(line_intensities)\n",
    "        line_intensities = np.convolve([1, 1, 1], line_intensities, mode='same') # smoothening\n",
    "        line_intensities = line_intensities > (line_intensities.mean() + 0.7*line_intensities.std())\n",
    "        features[fi] = np.sum(line_intensities) / line_intensities.shape[0]\n",
    "    return features"
   ]
  },
  {
   "cell_type": "code",
   "execution_count": 13,
   "id": "304319b7-9003-4f7a-bde4-e6c02a8ce0af",
   "metadata": {
    "tags": []
   },
   "outputs": [
    {
     "data": {
      "text/plain": [
       "array([0.2291, 0.1875, 0.2291, 0.1875, 0.1875, 0.1875, 0.1875, 0.2084,\n",
       "       0.1875, 0.1666, 0.1666, 0.2084], dtype=float16)"
      ]
     },
     "execution_count": 13,
     "metadata": {},
     "output_type": "execute_result"
    }
   ],
   "source": [
    "getfeatures(im)"
   ]
  },
  {
   "cell_type": "code",
   "execution_count": 14,
   "id": "0f24bdc5-281f-468f-bf68-c78f5b2da96e",
   "metadata": {},
   "outputs": [
    {
     "name": "stdout",
     "output_type": "stream",
     "text": [
      "40000 training loaded!\n",
      "60000 testing loaded!\n",
      "All Star images and features Loaded.\n"
     ]
    }
   ],
   "source": [
    "galaxy_extracted_features = np.zeros((40000, pointset_bound.shape[0])).astype(np.float32)\n",
    "star_extracted_features = np.zeros((40000, pointset_bound.shape[0])).astype(np.float32)\n",
    "star_images = np.zeros((40000, 48, 48, 1)).astype(np.float32)\n",
    "galaxy_images = np.zeros((40000, 48, 48, 1)).astype(np.float32)\n",
    "\n",
    "test_galaxy_extracted_features = np.zeros((60000, pointset_bound.shape[0])).astype(np.float32)\n",
    "test_star_extracted_features = np.zeros((60000, pointset_bound.shape[0])).astype(np.float32)\n",
    "test_star_images = np.zeros((60000, 48, 48, 1)).astype(np.float32)\n",
    "test_galaxy_images = np.zeros((60000, 48, 48, 1)).astype(np.float32)\n",
    "\n",
    "# getting images\n",
    "for i in range(1, 40001):\n",
    "    image_path = f\"star_postage/training/mdm_star_training_{i}.png\"\n",
    "    im = cv2.imread(image_path, cv2.IMREAD_GRAYSCALE)\n",
    "    star_images[i-1] = im.reshape((48, 48, 1)) / 255\n",
    "    im = ndi.gaussian_filter(im, sigma=0.5)\n",
    "    im = ((im - im.mean()) / im.std()).clip(0, 1)\n",
    "    # im = (im * 10).astype(np.int8) / 10\n",
    "    star_extracted_features[i-1] = getfeatures(im)\n",
    "    image_path = f\"galaxy_postage/training/mdm_galaxy_training_{i}.png\"\n",
    "    im = cv2.imread(image_path, cv2.IMREAD_GRAYSCALE)\n",
    "    galaxy_images[i-1] = im.reshape((48, 48, 1)) / 255\n",
    "    im = ndi.gaussian_filter(im, sigma=0.5)\n",
    "    im = ((im - im.mean()) / im.std()).clip(0, 1)\n",
    "    # im = (im * 10).astype(np.int8) / 10\n",
    "    galaxy_extracted_features[i-1] = getfeatures(im)\n",
    "    if i % 10 == 0:\n",
    "        print(f\"{i} training loaded!\",end=\"\\r\")\n",
    "\n",
    "\n",
    "print()\n",
    "\n",
    "\n",
    "# getting images\n",
    "for i in range(1, 60001):\n",
    "    image_path = f\"star_postage/test/mdm_star_test_{i}.png\"\n",
    "    im = cv2.imread(image_path, cv2.IMREAD_GRAYSCALE)\n",
    "    test_star_images[i-1] = im.reshape((48, 48, 1)) / 255\n",
    "    im = ndi.gaussian_filter(im, sigma=0.5)\n",
    "    im = ((im - im.mean()) / im.std()).clip(0, 1)\n",
    "    # im = (im * 10).astype(np.int8) / 10\n",
    "    test_star_extracted_features[i-1] = getfeatures(im)\n",
    "    image_path = f\"galaxy_postage/test/mdm_galaxy_test_{i}.png\"\n",
    "    im = cv2.imread(image_path, cv2.IMREAD_GRAYSCALE)\n",
    "    test_galaxy_images[i-1] = im.reshape((48, 48, 1)) / 255\n",
    "    im = ndi.gaussian_filter(im, sigma=0.5)\n",
    "    im = ((im - im.mean()) / im.std()).clip(0, 1)\n",
    "    # im = (im * 10).astype(np.int8) / 10\n",
    "    test_galaxy_extracted_features[i-1] = getfeatures(im)\n",
    "    if i % 10 == 0:\n",
    "        print(f\"{i} testing loaded!\",end=\"\\r\")\n",
    "\n",
    "\n",
    "\n",
    "\n",
    "# # getting test images\n",
    "# for i in range(1, 60001):\n",
    "#     image_path = f\"star_postage/test/mdm_star_test_{i}.png\"\n",
    "#     im = cv2.imread(image_path, cv2.IMREAD_GRAYSCALE)\n",
    "#     test_star_images[i-1] = im.reshape((48, 48, 1)) / 255\n",
    "#     image_path = f\"galaxy_postage/test/mdm_galaxy_test_{i}.png\"\n",
    "#     im = cv2.imread(image_path, cv2.IMREAD_GRAYSCALE)\n",
    "#     im = ndi.gaussian_filter(im, sigma=0.5)\n",
    "#     im = ((im - im.mean()) / im.std()).clip(0, 1)\n",
    "#     # im = (im * 10).astype(np.int8) / 10\n",
    "#     test_galaxy_extracted_features[i-1] = getfeatures(im)\n",
    "#     if i % 10 == 0:\n",
    "#         print(f\"{i} test loaded!\",end=\"\\r\")\n",
    "    \n",
    "print(\"\\nAll Star images and features Loaded.\")"
   ]
  },
  {
   "cell_type": "code",
   "execution_count": 79,
   "id": "b3e0a33c-df08-4bc2-bc60-9b85778e0872",
   "metadata": {},
   "outputs": [
    {
     "name": "stdout",
     "output_type": "stream",
     "text": [
      "[0.22912598 0.20837402 0.22912598 0.1875     0.1875     0.20837402\n",
      " 0.25       0.20837402 0.20837402 0.14587402 0.1875     0.25      ]\n",
      "[0.3125     0.33325195 0.29174805 0.27075195 0.3125     0.33325195\n",
      " 0.33325195 0.39575195 0.33325195 0.22912598 0.29174805 0.29174805]\n",
      "max star: 0.7803921699523926 || min star: 0.125490203499794\n",
      "max galaxy: 0.9215686321258545 || min galaxy: 0.2549019753932953\n"
     ]
    },
    {
     "data": {
      "text/plain": [
       "<matplotlib.image.AxesImage at 0x7fa946855ea0>"
      ]
     },
     "execution_count": 79,
     "metadata": {},
     "output_type": "execute_result"
    },
    {
     "data": {
      "image/png": "[encoded data removed]",
      "text/plain": [
       "<Figure size 1800x400 with 4 Axes>"
      ]
     },
     "metadata": {},
     "output_type": "display_data"
    }
   ],
   "source": [
    "fig, axes = plt.subplots(1, 4, figsize=(18, 4))\n",
    "print(star_extracted_features[0])\n",
    "print(galaxy_extracted_features[0])\n",
    "print(f\"max star: {star_images[0].max()} || min star: {star_images[0].min()}\")\n",
    "print(f\"max galaxy: {galaxy_images[0].max()} || min galaxy: {galaxy_images[0].min()}\")\n",
    "axes[0].imshow(star_images[0])\n",
    "im = ndi.gaussian_filter(star_images[0], sigma=0.5)\n",
    "im = ((im - im.mean()) / im.std()).clip(0, 1)\n",
    "axes[1].imshow(im)\n",
    "axes[2].imshow(galaxy_images[0])\n",
    "im = ndi.gaussian_filter(galaxy_images[0], sigma=0.5)\n",
    "im = ((im - im.mean()) / im.std()).clip(0, 1)\n",
    "axes[3].imshow(im)\n"
   ]
  },
  {
   "cell_type": "code",
   "execution_count": 45,
   "id": "a838b140-2dbb-45c1-a250-50c61ecf3580",
   "metadata": {
    "tags": []
   },
   "outputs": [
    {
     "name": "stdout",
     "output_type": "stream",
     "text": [
      "Model: \"model_3\"\n",
      "__________________________________________________________________________________________________\n",
      " Layer (type)                   Output Shape         Param #     Connected to                     \n",
      "==================================================================================================\n",
      " conv2d_3_input (InputLayer)    [(None, 48, 48, 1)]  0           []                               \n",
      "                                                                                                  \n",
      " conv2d_3 (Conv2D)              (None, 37, 37, 10)   1450        ['conv2d_3_input[0][0]']         \n",
      "                                                                                                  \n",
      " conv2d_4 (Conv2D)              (None, 30, 30, 20)   12820       ['conv2d_3[0][0]']               \n",
      "                                                                                                  \n",
      " conv2d_5 (Conv2D)              (None, 23, 23, 10)   12810       ['conv2d_4[0][0]']               \n",
      "                                                                                                  \n",
      " max_pooling2d_1 (MaxPooling2D)  (None, 11, 11, 10)  0           ['conv2d_5[0][0]']               \n",
      "                                                                                                  \n",
      " flatten_1 (Flatten)            (None, 1210)         0           ['max_pooling2d_1[0][0]']        \n",
      "                                                                                                  \n",
      " input_6 (InputLayer)           [(None, 12)]         0           []                               \n",
      "                                                                                                  \n",
      " dense_25 (Dense)               (None, 100)          121100      ['flatten_1[0][0]']              \n",
      "                                                                                                  \n",
      " dense_27 (Dense)               (None, 20)           260         ['input_6[0][0]']                \n",
      "                                                                                                  \n",
      " dense_26 (Dense)               (None, 20)           2020        ['dense_25[0][0]']               \n",
      "                                                                                                  \n",
      " dense_28 (Dense)               (None, 20)           420         ['dense_27[0][0]']               \n",
      "                                                                                                  \n",
      " concatenate_3 (Concatenate)    (None, 40)           0           ['dense_26[0][0]',               \n",
      "                                                                  'dense_28[0][0]']               \n",
      "                                                                                                  \n",
      " dense_29 (Dense)               (None, 40)           1640        ['concatenate_3[0][0]']          \n",
      "                                                                                                  \n",
      " dense_30 (Dense)               (None, 20)           820         ['dense_29[0][0]']               \n",
      "                                                                                                  \n",
      " dense_31 (Dense)               (None, 2)            42          ['dense_30[0][0]']               \n",
      "                                                                                                  \n",
      "==================================================================================================\n",
      "Total params: 153,382\n",
      "Trainable params: 153,382\n",
      "Non-trainable params: 0\n",
      "__________________________________________________________________________________________________\n"
     ]
    }
   ],
   "source": [
    "starmodel = keras.Sequential()\n",
    "\n",
    "starmodel.add(layers.Conv2D(10, (12,12), input_shape=(48,48,1), activation=\"relu\"))\n",
    "starmodel.add(layers.Conv2D(20, (8,8), activation=\"relu\"))\n",
    "starmodel.add(layers.Conv2D(10, (8,8), activation=\"relu\"))\n",
    "starmodel.add(layers.MaxPooling2D((2, 2)))\n",
    "starmodel.add(layers.Flatten())\n",
    "starmodel.add(layers.Dense(100, activation=\"relu\"))\n",
    "starmodel.add(layers.Dense(20, activation=\"relu\"))\n",
    "\n",
    "\n",
    "galaxymodel = keras.Sequential()\n",
    "\n",
    "galaxymodel.add(tf.keras.layers.Input(shape=(pointset_bound.shape[0],)))\n",
    "galaxymodel.add(layers.Dense(20, activation=\"relu\"))\n",
    "galaxymodel.add(layers.Dense(20, activation=\"relu\"))\n",
    "\n",
    "\n",
    "mergedOut = layers.Concatenate()([starmodel.output,galaxymodel.output])\n",
    "mergedOut = layers.Dense(40, activation=\"relu\")(mergedOut)\n",
    "mergedOut = layers.Dense(20, activation=\"relu\")(mergedOut)\n",
    "mergedOut = layers.Dense(2, activation=\"linear\")(mergedOut)\n",
    "\n",
    "model = tf.keras.models.Model(inputs=[starmodel.input, galaxymodel.input], outputs=mergedOut)\n",
    "model.summary()"
   ]
  },
  {
   "cell_type": "code",
   "execution_count": 46,
   "id": "925313c6-d0a8-46f4-aec3-35490a2be2d5",
   "metadata": {
    "tags": []
   },
   "outputs": [],
   "source": [
    "mse = tf.keras.losses.MeanSquaredError()\n",
    "model.compile(\n",
    "    loss=mse, \n",
    "    optimizer='adam'\n",
    ")"
   ]
  },
  {
   "cell_type": "code",
   "execution_count": 48,
   "id": "ffdceb6e-25a8-4f66-8a90-56d0af6fc28a",
   "metadata": {
    "tags": []
   },
   "outputs": [
    {
     "name": "stdout",
     "output_type": "stream",
     "text": [
      "Epoch 1/4\n",
      "1250/1250 [==============================] - 18s 13ms/step - loss: 0.0031\n",
      "Epoch 2/4\n",
      "1250/1250 [==============================] - 18s 14ms/step - loss: 0.0019\n",
      "Epoch 3/4\n",
      "1250/1250 [==============================] - 18s 15ms/step - loss: 0.0019\n",
      "Epoch 4/4\n",
      "1250/1250 [==============================] - 19s 15ms/step - loss: 0.0019\n"
     ]
    },
    {
     "data": {
      "text/plain": [
       "<keras.callbacks.History at 0x7fa970405870>"
      ]
     },
     "execution_count": 48,
     "metadata": {},
     "output_type": "execute_result"
    }
   ],
   "source": [
    "model.fit([star_images, galaxy_extracted_features], train_es, epochs=4)  "
   ]
  },
  {
   "cell_type": "code",
   "execution_count": 49,
   "id": "b01d303d-9444-467f-87b8-08edc9039841",
   "metadata": {
    "tags": []
   },
   "outputs": [
    {
     "data": {
      "text/plain": [
       "array([ 0.175845 , -0.0008633,  0.187274 , ...,  0.0723837, -0.219463 ,\n",
       "       -0.152461 ])"
      ]
     },
     "execution_count": 49,
     "metadata": {},
     "output_type": "execute_result"
    }
   ],
   "source": [
    "tsol = pd.read_csv(\"mdm_solution.csv\")\n",
    "tsol\n",
    "te1s = tsol['e1_solution'].to_numpy()\n",
    "te2s = tsol[' e2_solution'].to_numpy()\n",
    "te1s"
   ]
  },
  {
   "cell_type": "code",
   "execution_count": 58,
   "id": "a995f300-56a4-46d1-96f6-3408c0b08569",
   "metadata": {
    "tags": []
   },
   "outputs": [
    {
     "name": "stdout",
     "output_type": "stream",
     "text": [
      "1/1 [==============================] - 0s 17ms/step\n"
     ]
    }
   ],
   "source": [
    "img_no = 1\n",
    "image_path = f\"star_postage/test/mdm_star_test_{img_no}.png\"\n",
    "starim = cv2.imread(image_path, cv2.IMREAD_GRAYSCALE) / 255\n",
    "image_path = f\"galaxy_postage/test/mdm_galaxy_test_{img_no}.png\"\n",
    "galaxyim = cv2.imread(image_path, cv2.IMREAD_GRAYSCALE)\n",
    "denoised_im = ndi.gaussian_filter(galaxyim, sigma=0.5)\n",
    "normalized_im = ((denoised_im - denoised_im.mean()) / denoised_im.std()).clip(0, 1)\n",
    "# red_bit_depth = (normalized_im * 10).astype(np.int8) / 10\n",
    "features = getfeatures(red_bit_depth)\n",
    "\n",
    "out = model.predict([starim.reshape((1,48,48,1)), features.reshape((1,12))])"
   ]
  },
  {
   "cell_type": "code",
   "execution_count": 59,
   "id": "2fe1ddab-cc32-4c9a-b7eb-b712396adf2d",
   "metadata": {
    "tags": []
   },
   "outputs": [
    {
     "data": {
      "text/plain": [
       "array([[-0.18674979,  0.06493022]], dtype=float32)"
      ]
     },
     "execution_count": 59,
     "metadata": {},
     "output_type": "execute_result"
    }
   ],
   "source": [
    "out"
   ]
  },
  {
   "cell_type": "code",
   "execution_count": 60,
   "id": "d1d7610c-8d58-4386-a341-a2ef356cf2da",
   "metadata": {
    "tags": []
   },
   "outputs": [
    {
     "data": {
      "text/plain": [
       "0.3625947861385346"
      ]
     },
     "execution_count": 60,
     "metadata": {},
     "output_type": "execute_result"
    }
   ],
   "source": [
    "np.abs(out[0][0] - te1s[img_no-1])"
   ]
  },
  {
   "cell_type": "code",
   "execution_count": 61,
   "id": "79019402-6559-4c72-833c-86a8f46f1e2d",
   "metadata": {
    "tags": []
   },
   "outputs": [
    {
     "data": {
      "text/plain": [
       "0.12634911547794342"
      ]
     },
     "execution_count": 61,
     "metadata": {},
     "output_type": "execute_result"
    }
   ],
   "source": [
    "np.abs(out[0][1] - te2s[img_no-1])"
   ]
  },
  {
   "cell_type": "code",
   "execution_count": 63,
   "id": "08882da1-73eb-4050-8652-eaa58e48f921",
   "metadata": {
    "tags": []
   },
   "outputs": [
    {
     "name": "stdout",
     "output_type": "stream",
     "text": [
      "100/100 [==============================] - 4s 37ms/step\n",
      "40000 done!\n",
      "0.04166265277678213\n",
      "0.042493414638092544\n"
     ]
    }
   ],
   "source": [
    "rms_e1 = 0\n",
    "rms_e2 = 0\n",
    "es = model.predict([star_images, galaxy_extracted_features], steps=100)\n",
    "for i in range(0, 40000):\n",
    "    rms_e1 += sqerr(e1s[i], es[i][0])\n",
    "    rms_e2 += sqerr(e2s[i], es[i][1])\n",
    "    if (i + 1) % 10 == 0:\n",
    "        print(f\"{i+1} done!\",end=\"\\r\")\n",
    "    \n",
    "rms_e1 /= e1s.shape[0]\n",
    "rms_e2 /= e2s.shape[0]\n",
    "\n",
    "rms_e1 = np.sqrt(rms_e1)\n",
    "rms_e2 = np.sqrt(rms_e2)\n",
    "\n",
    "print()\n",
    "print(rms_e1)\n",
    "print(rms_e2)"
   ]
  },
  {
   "cell_type": "markdown",
   "id": "cdce1d18-7dc4-4e65-ba03-13f9af326348",
   "metadata": {},
   "source": [
    "## Dense network with extracted features"
   ]
  },
  {
   "cell_type": "code",
   "execution_count": 64,
   "id": "f83803fd-4785-42cd-93c3-965cb7f35ee7",
   "metadata": {
    "tags": []
   },
   "outputs": [
    {
     "name": "stdout",
     "output_type": "stream",
     "text": [
      "Model: \"model_4\"\n",
      "__________________________________________________________________________________________________\n",
      " Layer (type)                   Output Shape         Param #     Connected to                     \n",
      "==================================================================================================\n",
      " input_7 (InputLayer)           [(None, 12)]         0           []                               \n",
      "                                                                                                  \n",
      " input_8 (InputLayer)           [(None, 12)]         0           []                               \n",
      "                                                                                                  \n",
      " dense_32 (Dense)               (None, 30)           390         ['input_7[0][0]']                \n",
      "                                                                                                  \n",
      " dense_35 (Dense)               (None, 30)           390         ['input_8[0][0]']                \n",
      "                                                                                                  \n",
      " dense_33 (Dense)               (None, 40)           1240        ['dense_32[0][0]']               \n",
      "                                                                                                  \n",
      " dense_36 (Dense)               (None, 40)           1240        ['dense_35[0][0]']               \n",
      "                                                                                                  \n",
      " dense_34 (Dense)               (None, 30)           1230        ['dense_33[0][0]']               \n",
      "                                                                                                  \n",
      " dense_37 (Dense)               (None, 30)           1230        ['dense_36[0][0]']               \n",
      "                                                                                                  \n",
      " concatenate_4 (Concatenate)    (None, 60)           0           ['dense_34[0][0]',               \n",
      "                                                                  'dense_37[0][0]']               \n",
      "                                                                                                  \n",
      " dense_38 (Dense)               (None, 40)           2440        ['concatenate_4[0][0]']          \n",
      "                                                                                                  \n",
      " dense_39 (Dense)               (None, 20)           820         ['dense_38[0][0]']               \n",
      "                                                                                                  \n",
      " dense_40 (Dense)               (None, 2)            42          ['dense_39[0][0]']               \n",
      "                                                                                                  \n",
      "==================================================================================================\n",
      "Total params: 9,022\n",
      "Trainable params: 9,022\n",
      "Non-trainable params: 0\n",
      "__________________________________________________________________________________________________\n"
     ]
    }
   ],
   "source": [
    "starmodel = keras.Sequential()\n",
    "\n",
    "starmodel.add(tf.keras.layers.Input(shape=(pointset_bound.shape[0],)))\n",
    "starmodel.add(layers.Dense(30, activation=\"relu\"))\n",
    "starmodel.add(layers.Dense(40, activation=\"relu\"))\n",
    "starmodel.add(layers.Dense(30, activation=\"relu\"))\n",
    "\n",
    "\n",
    "galaxymodel = keras.Sequential()\n",
    "\n",
    "galaxymodel.add(tf.keras.layers.Input(shape=(pointset_bound.shape[0],)))\n",
    "galaxymodel.add(layers.Dense(30, activation=\"relu\"))\n",
    "galaxymodel.add(layers.Dense(40, activation=\"relu\"))\n",
    "galaxymodel.add(layers.Dense(30, activation=\"relu\"))\n",
    "\n",
    "\n",
    "mergedOut = layers.Concatenate()([starmodel.output,galaxymodel.output])\n",
    "mergedOut = layers.Dense(40, activation=\"relu\")(mergedOut)\n",
    "mergedOut = layers.Dense(20, activation=\"linear\")(mergedOut)\n",
    "mergedOut = layers.Dense(2, activation=\"linear\")(mergedOut)\n",
    "\n",
    "model = tf.keras.models.Model(inputs=[starmodel.input, galaxymodel.input], outputs=mergedOut)\n",
    "model.summary()"
   ]
  },
  {
   "cell_type": "code",
   "execution_count": 65,
   "id": "b3069913-89a3-48a8-bc8b-154ba89ab9e6",
   "metadata": {
    "tags": []
   },
   "outputs": [],
   "source": [
    "mse = tf.keras.losses.MeanSquaredError()\n",
    "model.compile(\n",
    "    loss=mse, \n",
    "    optimizer='adam'\n",
    ")"
   ]
  },
  {
   "cell_type": "code",
   "execution_count": 66,
   "id": "8334c02d-9e6e-4ce0-84be-e6c652d3ab18",
   "metadata": {
    "tags": []
   },
   "outputs": [
    {
     "name": "stdout",
     "output_type": "stream",
     "text": [
      "Epoch 1/4\n",
      "1250/1250 [==============================] - 2s 1ms/step - loss: 0.0036\n",
      "Epoch 2/4\n",
      "1250/1250 [==============================] - 1s 922us/step - loss: 0.0020\n",
      "Epoch 3/4\n",
      "1250/1250 [==============================] - 1s 906us/step - loss: 0.0019\n",
      "Epoch 4/4\n",
      "1250/1250 [==============================] - 1s 890us/step - loss: 0.0019\n"
     ]
    },
    {
     "data": {
      "text/plain": [
       "<keras.callbacks.History at 0x7fa973fd2890>"
      ]
     },
     "execution_count": 66,
     "metadata": {},
     "output_type": "execute_result"
    }
   ],
   "source": [
    "model.fit([star_extracted_features, galaxy_extracted_features], train_es, epochs=4)"
   ]
  },
  {
   "cell_type": "code",
   "execution_count": 68,
   "id": "0142ff3f-969c-453e-a837-112d716d4330",
   "metadata": {
    "tags": []
   },
   "outputs": [
    {
     "name": "stdout",
     "output_type": "stream",
     "text": [
      "[0.2084 0.2084 0.2084 0.1459 0.2084 0.1875 0.1875 0.1875 0.1666 0.1459\n",
      " 0.1875 0.1875]\n",
      "[0.3958 0.3542 0.3125 0.25   0.2917 0.3125 0.3333 0.2917 0.25   0.25\n",
      " 0.3125 0.3333]\n",
      "1/1 [==============================] - 0s 47ms/step\n"
     ]
    }
   ],
   "source": [
    "img_no = 1\n",
    "image_path = f\"star_postage/test/mdm_star_test_{img_no}.png\"\n",
    "starim = cv2.imread(image_path, cv2.IMREAD_GRAYSCALE) / 255\n",
    "denoised_im = ndi.gaussian_filter(starim, sigma=0.5)\n",
    "normalized_im = ((denoised_im - denoised_im.mean()) / denoised_im.std()).clip(0, 1)\n",
    "red_bit_depth = (normalized_im * 10).astype(np.int8) / 10\n",
    "featuresSt = getfeatures(red_bit_depth)\n",
    "image_path = f\"galaxy_postage/test/mdm_galaxy_test_{img_no}.png\"\n",
    "galaxyim = cv2.imread(image_path, cv2.IMREAD_GRAYSCALE)\n",
    "denoised_im = ndi.gaussian_filter(galaxyim, sigma=0.5)\n",
    "normalized_im = ((denoised_im - denoised_im.mean()) / denoised_im.std()).clip(0, 1)\n",
    "red_bit_depth = (normalized_im * 10).astype(np.int8) / 10\n",
    "featuresGa = getfeatures(red_bit_depth)\n",
    "\n",
    "print(featuresSt)\n",
    "print(featuresGa)\n",
    "\n",
    "out = model.predict([featuresSt.reshape((1,12)), featuresGa.reshape((1,12))])"
   ]
  },
  {
   "cell_type": "code",
   "execution_count": 69,
   "id": "d24f52e4-0fad-4714-90e1-2b45d1fcf45d",
   "metadata": {
    "tags": []
   },
   "outputs": [
    {
     "data": {
      "text/plain": [
       "array([[ 0.12056183, -0.03903662]], dtype=float32)"
      ]
     },
     "execution_count": 69,
     "metadata": {},
     "output_type": "execute_result"
    }
   ],
   "source": [
    "out"
   ]
  },
  {
   "cell_type": "code",
   "execution_count": 70,
   "id": "acad18ee-4e11-4007-b5ca-f494c2f6e0fc",
   "metadata": {
    "tags": []
   },
   "outputs": [
    {
     "data": {
      "text/plain": [
       "0.055283169300556184"
      ]
     },
     "execution_count": 70,
     "metadata": {},
     "output_type": "execute_result"
    }
   ],
   "source": [
    "np.abs(out[0][0] - te1s[img_no-1])"
   ]
  },
  {
   "cell_type": "code",
   "execution_count": 71,
   "id": "1ad59fae-73da-4e48-a949-70295c323cfb",
   "metadata": {
    "tags": []
   },
   "outputs": [
    {
     "data": {
      "text/plain": [
       "0.022382275866413115"
      ]
     },
     "execution_count": 71,
     "metadata": {},
     "output_type": "execute_result"
    }
   ],
   "source": [
    "np.abs(out[0][1] - te2s[img_no-1])"
   ]
  },
  {
   "cell_type": "code",
   "execution_count": 72,
   "id": "ca034fc1-0b13-426c-85fc-4de23ad231bf",
   "metadata": {
    "tags": []
   },
   "outputs": [
    {
     "name": "stdout",
     "output_type": "stream",
     "text": [
      "100/100 [==============================] - 0s 976us/step\n",
      "40000 done!\n",
      "0.04311314762352567\n",
      "0.041317320186838626\n"
     ]
    }
   ],
   "source": [
    "rms_e1 = 0\n",
    "rms_e2 = 0\n",
    "es = model.predict([star_extracted_features, galaxy_extracted_features], steps=100)\n",
    "for i in range(0, 40000):\n",
    "    rms_e1 += sqerr(e1s[i], es[i][0])\n",
    "    rms_e2 += sqerr(e2s[i], es[i][1])\n",
    "    if (i + 1) % 10 == 0:\n",
    "        print(f\"{i+1} done!\",end=\"\\r\")\n",
    "    \n",
    "rms_e1 /= e1s.shape[0]\n",
    "rms_e2 /= e2s.shape[0]\n",
    "\n",
    "rms_e1 = np.sqrt(rms_e1)\n",
    "rms_e2 = np.sqrt(rms_e2)\n",
    "\n",
    "print()\n",
    "print(rms_e1)\n",
    "print(rms_e2)"
   ]
  },
  {
   "cell_type": "markdown",
   "id": "75df36a1-df5f-433d-9fba-9a8c5545f7fc",
   "metadata": {},
   "source": [
    "## Logistic regression"
   ]
  },
  {
   "cell_type": "code",
   "execution_count": 77,
   "id": "997c46ce-162a-4188-a706-177ec783b542",
   "metadata": {
    "tags": []
   },
   "outputs": [
    {
     "name": "stdout",
     "output_type": "stream",
     "text": [
      "(40000,)\n",
      "0.040921661036373444\n"
     ]
    }
   ],
   "source": [
    "from sklearn.linear_model import Ridge\n",
    "\n",
    "lr_X_train = np.column_stack([star_extracted_features, galaxy_extracted_features])\n",
    "lr_X_train = np.column_stack([lr_X_train, lr_X_train * lr_X_train])\n",
    "lr_e1 = Ridge(alpha=0.01)\n",
    "lr_e1.fit(lr_X_train, e1s)\n",
    "y_preds = lr_e1.predict(lr_X_train)\n",
    "y_preds = (y_preds - e1s) ** 2\n",
    "rmse = np.sqrt(np.sum(y_preds) / y_preds.shape[0])\n",
    "print(rmse)"
   ]
  },
  {
   "cell_type": "code",
   "execution_count": 78,
   "id": "4725f469-de81-4abf-8851-bee78fe736f8",
   "metadata": {
    "tags": []
   },
   "outputs": [
    {
     "name": "stdout",
     "output_type": "stream",
     "text": [
      "0.04108794003454944\n"
     ]
    }
   ],
   "source": [
    "lr_e2 = Ridge(alpha=0.01)\n",
    "lr_e2.fit(lr_X_train, e2s)\n",
    "y_preds = lr_e2.predict(lr_X_train)\n",
    "y_preds = (y_preds - e2s) ** 2\n",
    "rmse = np.sqrt(np.sum(y_preds) / y_preds.shape[0])\n",
    "print(rmse)"
   ]
  },
  {
   "cell_type": "markdown",
   "id": "abc67651-de3a-4857-bfc1-cf0c7c3219ed",
   "metadata": {},
   "source": [
    "## deconvolution"
   ]
  },
  {
   "cell_type": "code",
   "execution_count": 30,
   "id": "de1cfa41-8517-46fd-9f75-3c4d3fcd7d9c",
   "metadata": {
    "tags": []
   },
   "outputs": [
    {
     "data": {
      "text/plain": [
       "<matplotlib.image.AxesImage at 0x7fca00aaa9b0>"
      ]
     },
     "execution_count": 30,
     "metadata": {},
     "output_type": "execute_result"
    },
    {
     "data": {
      "image/png": "[encoded data removed]",
      "text/plain": [
       "<Figure size 640x480 with 1 Axes>"
      ]
     },
     "metadata": {},
     "output_type": "display_data"
    }
   ],
   "source": [
    "img_no = 2\n",
    "galim = cv2.imread(\"galaxy_postage/training/mdm_galaxy_training_1.png\", cv2.IMREAD_GRAYSCALE)\n",
    "starim = cv2.imread(\"star_postage/training/mdm_star_training_1.png\", cv2.IMREAD_GRAYSCALE)\n",
    "plt.imshow(galim)\n",
    "plt.imshow(starim)"
   ]
  },
  {
   "cell_type": "code",
   "execution_count": 9,
   "id": "2c08202a-ea38-46ad-8259-b1c949a3a3dd",
   "metadata": {
    "tags": []
   },
   "outputs": [
    {
     "data": {
      "text/plain": [
       "(0.15194451300899436, 0.1668375538533896)"
      ]
     },
     "execution_count": 9,
     "metadata": {},
     "output_type": "execute_result"
    },
    {
     "data": {
      "image/png": "[encoded data removed]",
      "text/plain": [
       "<Figure size 1100x500 with 2 Axes>"
      ]
     },
     "metadata": {},
     "output_type": "display_data"
    }
   ],
   "source": [
    "img_no = 1\n",
    "galim = cv2.imread(f\"galaxy_postage/training/mdm_galaxy_training_{img_no}.png\", cv2.IMREAD_GRAYSCALE)\n",
    "starim = cv2.imread(f\"star_postage/training/mdm_star_training_{img_no}.png\", cv2.IMREAD_GRAYSCALE)\n",
    "\n",
    "from skimage import color, data, restoration\n",
    "img = galim.astype(np.float_)\n",
    "from scipy.signal import convolve2d\n",
    "psf = starim.astype(np.float_)\n",
    "# img = convolve2d(img, psf, 'same')\n",
    "# rng = np.random.default_rng()\n",
    "# img += 0.1 * img.std() * rng.standard_normal(img.shape)\n",
    "deconvolved_img = restoration.wiener(img, psf, 99999999)\n",
    "\n",
    "fig, axes = plt.subplots(1,2, figsize=(11,5))\n",
    "axes[0].imshow(img)\n",
    "axes[1].imshow(deconvolved_img)\n",
    "getUWQM(deconvolved_img)"
   ]
  },
  {
   "cell_type": "code",
   "execution_count": 10,
   "id": "356081ab-5c66-42c9-af15-98fd1ffbc1d6",
   "metadata": {
    "tags": []
   },
   "outputs": [
    {
     "data": {
      "text/plain": [
       "<matplotlib.image.AxesImage at 0x7efc3f27e0e0>"
      ]
     },
     "execution_count": 10,
     "metadata": {},
     "output_type": "execute_result"
    },
    {
     "data": {
      "image/png": "[encoded data removed]",
      "text/plain": [
       "<Figure size 640x480 with 1 Axes>"
      ]
     },
     "metadata": {},
     "output_type": "display_data"
    }
   ],
   "source": [
    "from numpy import fft\n",
    "from scipy.signal import convolve2d\n",
    "\n",
    "def getDeconvolvedImg(img, kernel, balance=99999999):\n",
    "    float_img = img.astype(np.float_)\n",
    "    psf = kernel.astype(np.float_)\n",
    "    deconvolved_img = restoration.wiener(img, psf, balance)\n",
    "    min_im = deconvolved_img.min()\n",
    "    max_im = deconvolved_img.max()\n",
    "    deconvolved_img = (deconvolved_img - min_im) / (max_im - min_im)\n",
    "    return deconvolved_img\n",
    "\n",
    "plt.imshow(getDeconvolvedImg(galim, starim, 99999999))"
   ]
  },
  {
   "cell_type": "code",
   "execution_count": 11,
   "id": "8e77704e-1eb3-493d-9388-c482b3d33411",
   "metadata": {
    "tags": []
   },
   "outputs": [
    {
     "name": "stdout",
     "output_type": "stream",
     "text": [
      "40000 done!\r"
     ]
    }
   ],
   "source": [
    "galaxy_convolved_imgs = np.zeros((40000, 48, 48, 1))\n",
    "\n",
    "for i in range(1, 40001):\n",
    "    image_path = f\"galaxy_postage/training/mdm_galaxy_training_{i}.png\"\n",
    "    galim = cv2.imread(image_path, cv2.IMREAD_GRAYSCALE)\n",
    "    image_path = f\"star_postage/training/mdm_star_training_{i}.png\"\n",
    "    starim = cv2.imread(image_path, cv2.IMREAD_GRAYSCALE)\n",
    "    # im = ndi.gaussian_filter(im, sigma=0.5) # denoise\n",
    "    im = getDeconvolvedImg(galim, starim)\n",
    "    min_im = im.min()\n",
    "    max_im = im.max()\n",
    "    im = (im - min_im) / (max_im - min_im)\n",
    "    galaxy_convolved_imgs[i-1] = im.reshape((48,48,1))\n",
    "    if i % 10 == 0:\n",
    "        print(f\"{i} done!\",end=\"\\r\")"
   ]
  },
  {
   "cell_type": "code",
   "execution_count": 45,
   "id": "09676528-eda4-4b28-a7e4-edbabbc65126",
   "metadata": {
    "tags": []
   },
   "outputs": [
    {
     "name": "stdout",
     "output_type": "stream",
     "text": [
      "60000 done!\r"
     ]
    }
   ],
   "source": [
    "val_galaxy_convolved_imgs = np.zeros((30000, 48, 48, 1))\n",
    "test_galaxy_convolved_imgs = np.zeros((30000, 48, 48, 1))\n",
    "\n",
    "for i in range(1, 60001):\n",
    "    image_path = f\"galaxy_postage/test/mdm_galaxy_test_{i}.png\"\n",
    "    galim = cv2.imread(image_path, cv2.IMREAD_GRAYSCALE)\n",
    "    image_path = f\"star_postage/test/mdm_star_test_{i}.png\"\n",
    "    starim = cv2.imread(image_path, cv2.IMREAD_GRAYSCALE)\n",
    "    # im = ndi.gaussian_filter(im, sigma=0.5) # denoise\n",
    "    im = getDeconvolvedImg(galim, starim)\n",
    "    min_im = im.min()\n",
    "    max_im = im.max()\n",
    "    im = (im - min_im) / (max_im - min_im)\n",
    "    if i <= 30_000:\n",
    "        val_galaxy_convolved_imgs[i-1] = im.reshape((48,48,1))\n",
    "    else:\n",
    "        test_galaxy_convolved_imgs[i-30_001] = im.reshape((48,48,1))\n",
    "    if i % 10 == 0:\n",
    "        print(f\"{i} done!\",end=\"\\r\")"
   ]
  },
  {
   "cell_type": "code",
   "execution_count": 65,
   "id": "b8ce7196-932e-436f-bdee-17498233646e",
   "metadata": {
    "tags": []
   },
   "outputs": [
    {
     "name": "stdout",
     "output_type": "stream",
     "text": [
      "Model: \"sequential_10\"\n",
      "_________________________________________________________________\n",
      " Layer (type)                Output Shape              Param #   \n",
      "=================================================================\n",
      " conv2d_38 (Conv2D)          (None, 37, 37, 20)        2900      \n",
      "                                                                 \n",
      " conv2d_39 (Conv2D)          (None, 30, 30, 20)        25620     \n",
      "                                                                 \n",
      " conv2d_40 (Conv2D)          (None, 27, 27, 20)        6420      \n",
      "                                                                 \n",
      " conv2d_41 (Conv2D)          (None, 24, 24, 20)        6420      \n",
      "                                                                 \n",
      " conv2d_42 (Conv2D)          (None, 21, 21, 10)        3210      \n",
      "                                                                 \n",
      " max_pooling2d_10 (MaxPoolin  (None, 10, 10, 10)       0         \n",
      " g2D)                                                            \n",
      "                                                                 \n",
      " flatten_10 (Flatten)        (None, 1000)              0         \n",
      "                                                                 \n",
      " dense_40 (Dense)            (None, 50)                50050     \n",
      "                                                                 \n",
      " dense_41 (Dense)            (None, 30)                1530      \n",
      "                                                                 \n",
      " dense_42 (Dense)            (None, 10)                310       \n",
      "                                                                 \n",
      " dense_43 (Dense)            (None, 2)                 22        \n",
      "                                                                 \n",
      "=================================================================\n",
      "Total params: 96,482\n",
      "Trainable params: 96,482\n",
      "Non-trainable params: 0\n",
      "_________________________________________________________________\n"
     ]
    }
   ],
   "source": [
    "model = keras.Sequential()\n",
    "\n",
    "model.add(layers.Conv2D(20, (12,12), input_shape=(48,48,1), activation=\"relu\"))\n",
    "model.add(layers.Conv2D(20, (8,8), activation=\"relu\"))\n",
    "model.add(layers.Conv2D(20, (4,4), activation=\"relu\"))\n",
    "model.add(layers.Conv2D(20, (4,4), activation=\"relu\"))\n",
    "model.add(layers.Conv2D(10, (4,4), activation=\"relu\"))\n",
    "model.add(layers.MaxPooling2D((2, 2)))\n",
    "model.add(layers.Flatten())\n",
    "model.add(layers.Dense(50, activation=\"relu\"))\n",
    "model.add(layers.Dense(30, activation=\"relu\"))\n",
    "model.add(layers.Dense(10, activation=\"relu\"))\n",
    "model.add(layers.Dense(2, activation=\"linear\"))\n",
    "\n",
    "mse = tf.keras.losses.MeanSquaredError()\n",
    "model.compile(\n",
    "    loss=mse, \n",
    "    optimizer='adam'\n",
    ")\n",
    "model.summary()"
   ]
  },
  {
   "cell_type": "code",
   "execution_count": 66,
   "id": "6b440a46-69e9-4899-a2a5-52b081570b34",
   "metadata": {
    "tags": []
   },
   "outputs": [
    {
     "name": "stdout",
     "output_type": "stream",
     "text": [
      "Epoch 1/10\n",
      "400/400 [==============================] - 27s 65ms/step - loss: 0.0030 - val_loss: 8.3765e-04\n",
      "Epoch 2/10\n",
      "400/400 [==============================] - 27s 67ms/step - loss: 5.9001e-04 - val_loss: 6.2502e-04\n",
      "Epoch 3/10\n",
      "400/400 [==============================] - 28s 69ms/step - loss: 5.5981e-04 - val_loss: 8.2323e-04\n",
      "Epoch 4/10\n",
      "400/400 [==============================] - 28s 69ms/step - loss: 5.4283e-04 - val_loss: 7.2707e-04\n",
      "Epoch 5/10\n",
      "400/400 [==============================] - 28s 69ms/step - loss: 5.3994e-04 - val_loss: 8.4405e-04\n",
      "Epoch 6/10\n",
      "400/400 [==============================] - 28s 69ms/step - loss: 5.2223e-04 - val_loss: 8.3593e-04\n",
      "Epoch 7/10\n",
      "400/400 [==============================] - 28s 69ms/step - loss: 5.2468e-04 - val_loss: 5.5669e-04\n",
      "Epoch 8/10\n",
      "400/400 [==============================] - 28s 70ms/step - loss: 5.3987e-04 - val_loss: 5.6083e-04\n",
      "Epoch 9/10\n",
      "400/400 [==============================] - 28s 70ms/step - loss: 5.0233e-04 - val_loss: 6.0624e-04\n",
      "Epoch 10/10\n",
      "400/400 [==============================] - 28s 71ms/step - loss: 4.9297e-04 - val_loss: 4.8912e-04\n"
     ]
    },
    {
     "data": {
      "image/png": "[encoded data removed]",
      "text/plain": [
       "<Figure size 640x480 with 1 Axes>"
      ]
     },
     "metadata": {},
     "output_type": "display_data"
    }
   ],
   "source": [
    "history = model.fit(galaxy_convolved_imgs, train_es, validation_data=[val_galaxy_convolved_imgs, test_es[:30_000]], batch_size=100, epochs=10)\n",
    "plt.plot(history.history['loss'])\n",
    "plt.plot(history.history['val_loss'])\n",
    "plt.title('model loss')\n",
    "plt.ylabel('loss (mse)')\n",
    "plt.xlabel('epoch')\n",
    "plt.legend(['train', 'val'], loc='upper left')\n",
    "plt.show()"
   ]
  },
  {
   "cell_type": "code",
   "execution_count": 67,
   "id": "87ceeec2-2582-4fe6-9375-6d9208034f59",
   "metadata": {
    "tags": []
   },
   "outputs": [
    {
     "name": "stdout",
     "output_type": "stream",
     "text": [
      "300/300 [==============================] - 6s 18ms/step\n",
      "30000 done!\n",
      "0.019554227246177384\n",
      "0.01865979140247788\n"
     ]
    }
   ],
   "source": [
    "rms_e1 = 0\n",
    "rms_e2 = 0\n",
    "es = model.predict(test_galaxy_convolved_imgs, batch_size=100)\n",
    "for i in range(0, 30000):\n",
    "    rms_e1 += sqerr(te1s[i+30_000], es[i][0])\n",
    "    rms_e2 += sqerr(te2s[i+30_000], es[i][1])\n",
    "    if (i + 1) % 10 == 0:\n",
    "        print(f\"{i+1} done!\",end=\"\\r\")\n",
    "    \n",
    "rms_e1 /= e1s.shape[0]\n",
    "rms_e2 /= e2s.shape[0]\n",
    "\n",
    "rms_e1 = np.sqrt(rms_e1)\n",
    "rms_e2 = np.sqrt(rms_e2)\n",
    "\n",
    "print()\n",
    "print(rms_e1)\n",
    "print(rms_e2)"
   ]
  },
  {
   "cell_type": "code",
   "execution_count": 68,
   "id": "1d99ed7e-c9e3-410d-a646-32f3f16425d3",
   "metadata": {
    "tags": []
   },
   "outputs": [
    {
     "name": "stdout",
     "output_type": "stream",
     "text": [
      "1/1 [==============================] - 0s 53ms/step\n"
     ]
    },
    {
     "data": {
      "text/plain": [
       "array([[-0.09875698,  0.08273844],\n",
       "       [ 0.08923342,  0.06984186],\n",
       "       [ 0.06968107, -0.15712127],\n",
       "       [-0.18229693, -0.01957068],\n",
       "       [-0.04330627, -0.3039862 ]], dtype=float32)"
      ]
     },
     "execution_count": 68,
     "metadata": {},
     "output_type": "execute_result"
    }
   ],
   "source": [
    "es = model.predict(galaxy_convolved_imgs[:5], batch_size=100)\n",
    "es"
   ]
  },
  {
   "cell_type": "markdown",
   "id": "49c2fe67-3cbb-4f45-8106-b9fc953b5eeb",
   "metadata": {},
   "source": [
    "## UWQM on deconvolved image"
   ]
  },
  {
   "cell_type": "code",
   "execution_count": 69,
   "id": "360b2ceb-db79-4406-955d-f3ba4f1c7e38",
   "metadata": {
    "tags": []
   },
   "outputs": [
    {
     "name": "stdout",
     "output_type": "stream",
     "text": [
      "40000 done!\n",
      "0.31603086744955766\n",
      "0.3901479609926266\n"
     ]
    }
   ],
   "source": [
    "mse_e1 = 0\n",
    "mse_e2 = 0\n",
    "\n",
    "def abserr(value, truth):\n",
    "    return np.abs(value - truth)\n",
    "\n",
    "def sqerr(value, truth):\n",
    "    return (value - truth) * (value - truth)\n",
    "\n",
    "for i in range(1, 40001):\n",
    "    im = galaxy_convolved_imgs[i-1].reshape((48,48))\n",
    "    es = getUWQM(im)\n",
    "    mse_e1 += abserr(e1s[i-1], es[0])\n",
    "    mse_e2 += abserr(e2s[i-1], es[1])\n",
    "    if i % 10 == 0:\n",
    "        print(f\"{i} done!\",end=\"\\r\")\n",
    "    \n",
    "mse_e1 /= e1s.shape[0]\n",
    "mse_e2 /= e2s.shape[0]\n",
    "\n",
    "mse_e1 = np.sqrt(mse_e1)\n",
    "mse_e2 = np.sqrt(mse_e2)\n",
    "\n",
    "print()\n",
    "print(mse_e1)\n",
    "print(mse_e2)"
   ]
  },
  {
   "cell_type": "code",
   "execution_count": null,
   "id": "8d6bdf09-1310-4a26-884a-5c2af310192c",
   "metadata": {},
   "outputs": [],
   "source": []
  }
 ],
 "metadata": {
  "kernelspec": {
   "display_name": "Python 3 (ipykernel)",
   "language": "python",
   "name": "python3"
  },
  "language_info": {
   "codemirror_mode": {
    "name": "ipython",
    "version": 3
   },
   "file_extension": ".py",
   "mimetype": "text/x-python",
   "name": "python",
   "nbconvert_exporter": "python",
   "pygments_lexer": "ipython3",
   "version": "3.10.6"
  }
 },
 "nbformat": 4,
 "nbformat_minor": 5
}
